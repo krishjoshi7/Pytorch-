{
  "nbformat": 4,
  "nbformat_minor": 0,
  "metadata": {
    "colab": {
      "provenance": [],
      "authorship_tag": "ABX9TyMigVVTqCYYpRGX6ZBSEi0d",
      "include_colab_link": true
    },
    "kernelspec": {
      "name": "python3",
      "display_name": "Python 3"
    },
    "language_info": {
      "name": "python"
    }
  },
  "cells": [
    {
      "cell_type": "markdown",
      "metadata": {
        "id": "view-in-github",
        "colab_type": "text"
      },
      "source": [
        "<a href=\"https://colab.research.google.com/github/krishjoshi7/Pytorch-/blob/main/Pytorch_Workflow.ipynb\" target=\"_parent\"><img src=\"https://colab.research.google.com/assets/colab-badge.svg\" alt=\"Open In Colab\"/></a>"
      ]
    },
    {
      "cell_type": "markdown",
      "source": [
        "# PyTorch Workflow"
      ],
      "metadata": {
        "id": "NR5jba_vMwr9"
      }
    },
    {
      "cell_type": "code",
      "execution_count": 84,
      "metadata": {
        "id": "2HaLchvJ8kSb"
      },
      "outputs": [],
      "source": [
        "what_were_covering = {1: \"data (prepare and load)\",\n",
        "    2: \"build model\",\n",
        "    3: \"fitting the model to data (training)\",\n",
        "    4: \"making predictions and evaluating a model (inference)\",\n",
        "    5: \"saving and loading a model\",\n",
        "    6: \"putting it all together\"\n",
        "}"
      ]
    },
    {
      "cell_type": "code",
      "source": [
        "what_were_covering"
      ],
      "metadata": {
        "colab": {
          "base_uri": "https://localhost:8080/"
        },
        "id": "28dW3XKtNZ4h",
        "outputId": "f9ff16c7-f86e-4523-aa11-b3c4017901d7"
      },
      "execution_count": 85,
      "outputs": [
        {
          "output_type": "execute_result",
          "data": {
            "text/plain": [
              "{1: 'data (prepare and load)',\n",
              " 2: 'build model',\n",
              " 3: 'fitting the model to data (training)',\n",
              " 4: 'making predictions and evaluating a model (inference)',\n",
              " 5: 'saving and loading a model',\n",
              " 6: 'putting it all together'}"
            ]
          },
          "metadata": {},
          "execution_count": 85
        }
      ]
    },
    {
      "cell_type": "markdown",
      "source": [
        "# Importing dependencies"
      ],
      "metadata": {
        "id": "ru9s9eRvM2c9"
      }
    },
    {
      "cell_type": "code",
      "source": [
        "import torch\n",
        "from torch import nn\n",
        "#nn contains all of PyTorch's  building blocks for neural networks\n",
        "import matplotlib.pyplot as plt\n",
        "\n",
        "\n",
        "#check Pytorch Version\n",
        "torch.__version__"
      ],
      "metadata": {
        "colab": {
          "base_uri": "https://localhost:8080/",
          "height": 35
        },
        "id": "Y_kAR2jeNteW",
        "outputId": "3b3a8878-fbb4-4a53-ab54-f5163646d015"
      },
      "execution_count": 86,
      "outputs": [
        {
          "output_type": "execute_result",
          "data": {
            "text/plain": [
              "'2.0.1+cu118'"
            ],
            "application/vnd.google.colaboratory.intrinsic+json": {
              "type": "string"
            }
          },
          "metadata": {},
          "execution_count": 86
        }
      ]
    },
    {
      "cell_type": "markdown",
      "source": [
        "# Data prepparing and Loading"
      ],
      "metadata": {
        "id": "U5k5nDCRP677"
      }
    },
    {
      "cell_type": "markdown",
      "source": [
        "Data can be almost anything ... in machine learning.\n",
        "* Excel speadsheet\n",
        "* Image of any kind\n",
        "* Videos (Youtube has lots of data...)\n",
        "* Audio like songs or podcasts\n",
        "* DNA\n",
        "* Text\n",
        "\n"
      ],
      "metadata": {
        "id": "_mucuPC7QG19"
      }
    },
    {
      "cell_type": "markdown",
      "source": [
        "Machine Learning is a game of two parts:\n",
        "1. Get data into a numerical respresentation\n",
        "2. Build a model to learn patterns in that numerical representation"
      ],
      "metadata": {
        "id": "baApgRb7QvZT"
      }
    },
    {
      "cell_type": "markdown",
      "source": [
        "TO showcase this, let's create some *known* data using the linear regression formula\n",
        "\n",
        "we'll use linear regression formula to make a straight line with known parameters."
      ],
      "metadata": {
        "id": "8CFZFq1QQubG"
      }
    },
    {
      "cell_type": "markdown",
      "source": [
        "# BUILDING DATASET"
      ],
      "metadata": {
        "id": "JgllgddFSzVN"
      }
    },
    {
      "cell_type": "code",
      "source": [
        "# create *known* parameters\n",
        "weight = 0.7\n",
        "bias = 0.3\n",
        "# Create data\n",
        "start = 0\n",
        "end = 1\n",
        "step = 0.02\n",
        "X = torch.arange(start, end, step).unsqueeze(dim=1) # unsqueeze add extra dimension\n",
        "y = weight*X + bias\n",
        "# Y = m(x) + c\n",
        "\n",
        "\n"
      ],
      "metadata": {
        "id": "q2nf3NTpOvtT"
      },
      "execution_count": 87,
      "outputs": []
    },
    {
      "cell_type": "code",
      "source": [
        "X[:10],"
      ],
      "metadata": {
        "colab": {
          "base_uri": "https://localhost:8080/"
        },
        "id": "3qaKVR_RTzQJ",
        "outputId": "02bb3c98-257e-49ec-f0a7-f49b39617440"
      },
      "execution_count": 88,
      "outputs": [
        {
          "output_type": "execute_result",
          "data": {
            "text/plain": [
              "(tensor([[0.0000],\n",
              "         [0.0200],\n",
              "         [0.0400],\n",
              "         [0.0600],\n",
              "         [0.0800],\n",
              "         [0.1000],\n",
              "         [0.1200],\n",
              "         [0.1400],\n",
              "         [0.1600],\n",
              "         [0.1800]]),)"
            ]
          },
          "metadata": {},
          "execution_count": 88
        }
      ]
    },
    {
      "cell_type": "code",
      "source": [
        "y[:10]"
      ],
      "metadata": {
        "colab": {
          "base_uri": "https://localhost:8080/"
        },
        "id": "oQ3FRYqoT0qJ",
        "outputId": "dcfe067c-6777-4531-aa89-a0b01325d114"
      },
      "execution_count": 89,
      "outputs": [
        {
          "output_type": "execute_result",
          "data": {
            "text/plain": [
              "tensor([[0.3000],\n",
              "        [0.3140],\n",
              "        [0.3280],\n",
              "        [0.3420],\n",
              "        [0.3560],\n",
              "        [0.3700],\n",
              "        [0.3840],\n",
              "        [0.3980],\n",
              "        [0.4120],\n",
              "        [0.4260]])"
            ]
          },
          "metadata": {},
          "execution_count": 89
        }
      ]
    },
    {
      "cell_type": "code",
      "source": [
        "len(X), len(y)"
      ],
      "metadata": {
        "colab": {
          "base_uri": "https://localhost:8080/"
        },
        "id": "Sffudug-UEqB",
        "outputId": "d76e4302-f6fd-4319-8aa9-8dc105347e65"
      },
      "execution_count": 90,
      "outputs": [
        {
          "output_type": "execute_result",
          "data": {
            "text/plain": [
              "(50, 50)"
            ]
          },
          "metadata": {},
          "execution_count": 90
        }
      ]
    },
    {
      "cell_type": "markdown",
      "source": [
        "# Split data into train and test set\n",
        "\n",
        "Let's create a training test set with our data."
      ],
      "metadata": {
        "id": "lwI6cfEQVijT"
      }
    },
    {
      "cell_type": "code",
      "source": [
        "# Create a train/test split\n",
        "train_split = int(0.8*len(X))\n",
        "train_split"
      ],
      "metadata": {
        "colab": {
          "base_uri": "https://localhost:8080/"
        },
        "id": "xXgdGeHDULBu",
        "outputId": "38c4d733-3189-43b9-a7e9-b7f5b8923f62"
      },
      "execution_count": 91,
      "outputs": [
        {
          "output_type": "execute_result",
          "data": {
            "text/plain": [
              "40"
            ]
          },
          "metadata": {},
          "execution_count": 91
        }
      ]
    },
    {
      "cell_type": "code",
      "source": [
        "x_train, y_train = X[: train_split], y[:train_split]\n",
        "x_test, y_test = X[train_split:], y[train_split:]"
      ],
      "metadata": {
        "id": "_J1LzbgWXVf4"
      },
      "execution_count": 92,
      "outputs": []
    },
    {
      "cell_type": "code",
      "source": [
        "len(x_train), len(y_train), len(x_test), len(y_test)"
      ],
      "metadata": {
        "colab": {
          "base_uri": "https://localhost:8080/"
        },
        "id": "3_UcL3GzbRq5",
        "outputId": "b203d8d9-0ca2-49c1-a610-9bc8daf7c5df"
      },
      "execution_count": 93,
      "outputs": [
        {
          "output_type": "execute_result",
          "data": {
            "text/plain": [
              "(40, 40, 10, 10)"
            ]
          },
          "metadata": {},
          "execution_count": 93
        }
      ]
    },
    {
      "cell_type": "markdown",
      "source": [
        "# Creating visualize representation"
      ],
      "metadata": {
        "id": "cg4qQDY6c5Wv"
      }
    },
    {
      "cell_type": "code",
      "source": [
        "def plot_predictions(train_data=x_train,\n",
        "                     train_labels=y_train,\n",
        "                     test_data=x_test,\n",
        "                     test_labels=y_test,\n",
        "                     predictions=None):\n",
        "  \"\"\"\n",
        "  Plots training data, test data and compares predictions.\n",
        "  \"\"\"\n",
        "  plt.figure(figsize=(10, 7))\n",
        "\n",
        "  # Plot training data in blue\n",
        "  plt.scatter(train_data, train_labels, c=\"b\", s=4, label=\"Training data\")\n",
        "\n",
        "  # Plot test data in green\n",
        "  plt.scatter(test_data, test_labels, c=\"g\", s=4, label=\"Testing data\")\n",
        "\n",
        "  if predictions is not None:\n",
        "    # Plot the predictions in red (predictions were made on the test data)\n",
        "    plt.scatter(test_data, predictions, c=\"r\", s=4, label=\"Predictions\")\n",
        "\n",
        "  # Show the legend\n",
        "  plt.legend(prop={\"size\": 14});"
      ],
      "metadata": {
        "id": "0G7twOoCbl7T"
      },
      "execution_count": 94,
      "outputs": []
    },
    {
      "cell_type": "code",
      "source": [
        "plot_predictions()"
      ],
      "metadata": {
        "colab": {
          "base_uri": "https://localhost:8080/",
          "height": 599
        },
        "id": "KgdBdMJGgiWA",
        "outputId": "52eb854e-417e-424a-adef-09617179f3b0"
      },
      "execution_count": 95,
      "outputs": [
        {
          "output_type": "display_data",
          "data": {
            "text/plain": [
              "<Figure size 1000x700 with 1 Axes>"
            ],
            "image/png": "[encoded data removed]"
          },
          "metadata": {}
        }
      ]
    },
    {
      "cell_type": "markdown",
      "source": [
        "# Building the model"
      ],
      "metadata": {
        "id": "FfUUDCqOhL8o"
      }
    },
    {
      "cell_type": "markdown",
      "source": [
        "* Our frist PyTorch model !\n",
        "\n",
        "\n",
        "\n",
        "* We will use linear Regression model\n",
        "\n",
        "* We are going to be building classes throughout the course\n",
        "* I'd recommend getting familiar with OOP in python, to do so we can use resource from real python\n",
        "\n"
      ],
      "metadata": {
        "id": "Gp17a2Lg74cn"
      }
    },
    {
      "cell_type": "markdown",
      "source": [
        "# What our model does :\n",
        "* Start with random values (weights & bias)\n",
        "* Look at training data and adjust the randomvalues to better represent data and adjust randomvalues to better represent (or get closer to) the ideal values (the weight & bias values we used to create the data)"
      ],
      "metadata": {
        "id": "55COkvySbkKd"
      }
    },
    {
      "cell_type": "markdown",
      "source": [
        "# How does it do so ?\n",
        "\n",
        "* Through two main algorithms:\n",
        "1. Gradient descent\n",
        "2. Backpropogation"
      ],
      "metadata": {
        "id": "F-WdCBk-cqFl"
      }
    },
    {
      "cell_type": "code",
      "source": [
        "# Create a Linear Regression model class\n",
        "class LinearRegressionModel(nn.Module): # <- almost everything in PyTorch is a nn.Module (think of this as neural network lego blocks)\n",
        "    def __init__(self):\n",
        "        super().__init__()\n",
        "        self.weights = nn.Parameter(torch.randn(1, # <- start with random weights (this will get adjusted as the model learns)\n",
        "                                                dtype=torch.float), # <- PyTorch loves float32 by default\n",
        "                                   requires_grad=True) # <- can we update this value with gradient descent?)\n",
        "\n",
        "        self.bias = nn.Parameter(torch.randn(1, # <- start with random bias (this will get adjusted as the model learns)\n",
        "                                            dtype=torch.float), # <- PyTorch loves float32 by default\n",
        "                                requires_grad=True) # <- can we update this value with gradient descent?))\n",
        "\n",
        "    # Forward defines the computation in the model\n",
        "    def forward(self, x: torch.Tensor) -> torch.Tensor: # <- \"x\" is the input data (e.g. training/testing features)\n",
        "        return self.weights * x + self.bias # <- this is the linear regression formula (y = m*x + b)"
      ],
      "metadata": {
        "id": "07o9MN8wLE75"
      },
      "execution_count": 96,
      "outputs": []
    },
    {
      "cell_type": "markdown",
      "source": [
        "### PyTorch model building essentials\n",
        "\n",
        "PyTorch has four (give or take) essential modules you can use to create almost any kind of neural network you can imagine.\n",
        "\n",
        "They are [`torch.nn`](https://pytorch.org/docs/stable/nn.html), [`torch.optim`](https://pytorch.org/docs/stable/optim.html), [`torch.utils.data.Dataset`](https://pytorch.org/docs/stable/data.html#torch.utils.data.Dataset) and [`torch.utils.data.DataLoader`](https://pytorch.org/docs/stable/data.html). For now, we'll focus on the first two and get to the other two later (though you may be able to guess what they do).\n",
        "\n",
        "| PyTorch module | What does it do? |\n",
        "| ----- | ----- |\n",
        "| [`torch.nn`](https://pytorch.org/docs/stable/nn.html) | Contains all of the building blocks for computational graphs (essentially a series of computations executed in a particular way). |\n",
        "| [`torch.nn.Parameter`](https://pytorch.org/docs/stable/generated/torch.nn.parameter.Parameter.html#parameter) | Stores tensors that can be used with `nn.Module`. If `requires_grad=True` gradients (used for updating model parameters via [**gradient descent**](https://ml-cheatsheet.readthedocs.io/en/latest/gradient_descent.html))  are calculated automatically, this is often referred to as \"autograd\".  |\n",
        "| [`torch.nn.Module`](https://pytorch.org/docs/stable/generated/torch.nn.Module.html#torch.nn.Module) | The base class for all neural network modules, all the building blocks for neural networks are subclasses. If you're building a neural network in PyTorch, your models should subclass `nn.Module`. Requires a `forward()` method be implemented. |\n",
        "| [`torch.optim`](https://pytorch.org/docs/stable/optim.html) | Contains various optimization algorithms (these tell the model parameters stored in `nn.Parameter` how to best change to improve gradient descent and in turn reduce the loss). |\n",
        "| `def forward()` | All `nn.Module` subclasses require a `forward()` method, this defines the computation that will take place on the data passed to the particular `nn.Module` (e.g. the linear regression formula above). |\n",
        "\n",
        "If the above sounds complex, think of like this, almost everything in a PyTorch neural network comes from `torch.nn`,\n",
        "* `nn.Module` contains the larger building blocks (layers)\n",
        "* `nn.Parameter` contains the smaller parameters like weights and biases (put these together to make `nn.Module`(s))\n",
        "* `forward()` tells the larger blocks how to make calculations on inputs (tensors full of data) within  `nn.Module`(s)\n",
        "* `torch.optim` contains optimization methods on how to improve the parameters within `nn.Parameter` to better represent input data\n",
        "\n",
        "![a pytorch linear model with annotations](https://raw.githubusercontent.com/mrdbourke/pytorch-deep-learning/main/images/01-pytorch-linear-model-annotated.png)\n",
        "*Basic building blocks of creating a PyTorch model by subclassing `nn.Module`. For objects that subclass `nn.Module`, the `forward()` method must be defined.*\n",
        "\n",
        "> **Resource:** See more of these essential modules and their uses cases in the [PyTorch Cheat Sheet](https://pytorch.org/tutorials/beginner/ptcheat.html)."
      ],
      "metadata": {
        "id": "OlUM67gXfVkJ"
      }
    },
    {
      "cell_type": "markdown",
      "source": [
        "* torch.nn - contains all of the building for computational graphs (a nueral network can be considered a computational graph)\n",
        "* torch.nn.parameter - what parameters should our model try and learn, often a PyTorch layer from torch.nn will set this for us\n",
        "* torch.nn.module - the base class for all neural network modules, if you subclass it, you should overwrite forward()\n",
        "* torch.optim - this where the optimizers in PyTorch live, they will help with gradient descent\n",
        "* def forward() - All nn.module subclass require you to overwrite forward() this method defines what happens in forward computation"
      ],
      "metadata": {
        "id": "SxrJMuE421wK"
      }
    },
    {
      "cell_type": "code",
      "source": [
        "torch.manual_seed(42)\n",
        "torch.rand(1)"
      ],
      "metadata": {
        "id": "BYgRDEZi-2EE",
        "outputId": "3e8f9ef8-01a8-42d3-b6d7-b1a96eeaed70",
        "colab": {
          "base_uri": "https://localhost:8080/"
        }
      },
      "execution_count": 97,
      "outputs": [
        {
          "output_type": "execute_result",
          "data": {
            "text/plain": [
              "tensor([0.8823])"
            ]
          },
          "metadata": {},
          "execution_count": 97
        }
      ]
    },
    {
      "cell_type": "markdown",
      "source": [
        "# Checking the contents of our PyTorch model\n",
        "\n",
        "Now we've created a model, let's see what's inside...\n",
        "\n",
        "soo we check our model parameters or what's inside our model using `.parameters()`"
      ],
      "metadata": {
        "id": "UtESa-GC76LG"
      }
    },
    {
      "cell_type": "code",
      "source": [
        "# Create a random seed\n",
        "torch.manual_seed(42)\n",
        "\n",
        "# Create an instance of the model (this is a subclass of nn.Moduel)\n",
        "model_1 = LinearRegressionModel()\n",
        "\n",
        "# Check out the parameters\n",
        "model_1.parameters()\n",
        "\n"
      ],
      "metadata": {
        "id": "kWtftfKF185X",
        "outputId": "d59f0c0d-aebf-43ef-8667-bd10e6efc74f",
        "colab": {
          "base_uri": "https://localhost:8080/"
        }
      },
      "execution_count": 98,
      "outputs": [
        {
          "output_type": "execute_result",
          "data": {
            "text/plain": [
              "<generator object Module.parameters at 0x7d7355dfa490>"
            ]
          },
          "metadata": {},
          "execution_count": 98
        }
      ]
    },
    {
      "cell_type": "code",
      "source": [
        "# Converting the generator to list\n",
        "list(model_1.parameters())"
      ],
      "metadata": {
        "id": "q2sbVO7M9UqM",
        "outputId": "3d2b4c05-ec15-4347-b99f-0d04538ee72e",
        "colab": {
          "base_uri": "https://localhost:8080/"
        }
      },
      "execution_count": 99,
      "outputs": [
        {
          "output_type": "execute_result",
          "data": {
            "text/plain": [
              "[Parameter containing:\n",
              " tensor([0.3367], requires_grad=True),\n",
              " Parameter containing:\n",
              " tensor([0.1288], requires_grad=True)]"
            ]
          },
          "metadata": {},
          "execution_count": 99
        }
      ]
    },
    {
      "cell_type": "code",
      "source": [
        "\n",
        "# list named parameters\n",
        "model_1.state_dict()"
      ],
      "metadata": {
        "id": "oD9xQsqt-rs4",
        "outputId": "768df522-3c04-4cf0-8201-fa454f29be33",
        "colab": {
          "base_uri": "https://localhost:8080/"
        }
      },
      "execution_count": 100,
      "outputs": [
        {
          "output_type": "execute_result",
          "data": {
            "text/plain": [
              "OrderedDict([('weights', tensor([0.3367])), ('bias', tensor([0.1288]))])"
            ]
          },
          "metadata": {},
          "execution_count": 100
        }
      ]
    },
    {
      "cell_type": "code",
      "source": [
        "weight, bias"
      ],
      "metadata": {
        "id": "_KpuogpYGjVf",
        "outputId": "a8b7ff6a-0761-436b-88ac-0455c5c96825",
        "colab": {
          "base_uri": "https://localhost:8080/"
        }
      },
      "execution_count": 101,
      "outputs": [
        {
          "output_type": "execute_result",
          "data": {
            "text/plain": [
              "(0.7, 0.3)"
            ]
          },
          "metadata": {},
          "execution_count": 101
        }
      ]
    },
    {
      "cell_type": "markdown",
      "source": [
        "# Making prediction using `torch.inference_mode()`\n",
        "\n",
        "To check our model's predictive power, let's see how well it predict `y_test`` based on `x_text`"
      ],
      "metadata": {
        "id": "Sv-J4Ky5FoDY"
      }
    },
    {
      "cell_type": "markdown",
      "source": [
        "When we pass data through our model, it's going to run it through the `forward()` method"
      ],
      "metadata": {
        "id": "gWzWZ-UaHeXL"
      }
    },
    {
      "cell_type": "code",
      "source": [
        "x_test, y_test"
      ],
      "metadata": {
        "id": "uppKg7siIj69",
        "outputId": "52bd3edf-5354-430d-c055-0e648ff45513",
        "colab": {
          "base_uri": "https://localhost:8080/"
        }
      },
      "execution_count": 102,
      "outputs": [
        {
          "output_type": "execute_result",
          "data": {
            "text/plain": [
              "(tensor([[0.8000],\n",
              "         [0.8200],\n",
              "         [0.8400],\n",
              "         [0.8600],\n",
              "         [0.8800],\n",
              "         [0.9000],\n",
              "         [0.9200],\n",
              "         [0.9400],\n",
              "         [0.9600],\n",
              "         [0.9800]]),\n",
              " tensor([[0.8600],\n",
              "         [0.8740],\n",
              "         [0.8880],\n",
              "         [0.9020],\n",
              "         [0.9160],\n",
              "         [0.9300],\n",
              "         [0.9440],\n",
              "         [0.9580],\n",
              "         [0.9720],\n",
              "         [0.9860]]))"
            ]
          },
          "metadata": {},
          "execution_count": 102
        }
      ]
    },
    {
      "cell_type": "code",
      "source": [
        "# make prediction with model\n",
        "with torch.inference_mode():\n",
        "  y_preds = model_1(x_test)\n",
        "y_preds"
      ],
      "metadata": {
        "id": "Myjl5_WXLUv6",
        "outputId": "1c22a2f5-947c-4302-fe9f-b02b2f6732e9",
        "colab": {
          "base_uri": "https://localhost:8080/"
        }
      },
      "execution_count": 103,
      "outputs": [
        {
          "output_type": "execute_result",
          "data": {
            "text/plain": [
              "tensor([[0.3982],\n",
              "        [0.4049],\n",
              "        [0.4116],\n",
              "        [0.4184],\n",
              "        [0.4251],\n",
              "        [0.4318],\n",
              "        [0.4386],\n",
              "        [0.4453],\n",
              "        [0.4520],\n",
              "        [0.4588]])"
            ]
          },
          "metadata": {},
          "execution_count": 103
        }
      ]
    },
    {
      "cell_type": "code",
      "source": [
        "plot_predictions(predictions=y_preds)"
      ],
      "metadata": {
        "id": "My0saNiTLrEv",
        "outputId": "cd507303-8811-43f1-f2b8-07989f79d7e8",
        "colab": {
          "base_uri": "https://localhost:8080/",
          "height": 599
        }
      },
      "execution_count": 104,
      "outputs": [
        {
          "output_type": "display_data",
          "data": {
            "text/plain": [
              "<Figure size 1000x700 with 1 Axes>"
            ],
            "image/png": "[encoded data removed]"
          },
          "metadata": {}
        }
      ]
    },
    {
      "cell_type": "markdown",
      "source": [
        "# Train model\n",
        "\n",
        "* The whole idea of training is for a model to move from some *unknown parameters (these may be random ) to some *known* parameters\n",
        "\n",
        "* Or in other words from poor represenataion of the data to better representation of the data"
      ],
      "metadata": {
        "id": "vMeVjn0jNTXg"
      }
    },
    {
      "cell_type": "markdown",
      "source": [
        "* One way to measure how poor or how wrong your models predictions are to use a loss function."
      ],
      "metadata": {
        "id": "ya9u29EGPY89"
      }
    },
    {
      "cell_type": "markdown",
      "source": [
        "* Note : loss function may also be called cost function or criterion in different areas. For our case, we're going to to refer to it as a loss function\n",
        "\n",
        "\n",
        "Things we need to train :\n",
        "#Loss Function:\n",
        "\n",
        " A function to measure how wrong your model's predictions are to the ideal outputs\n",
        " * the lower the better\n",
        "\n",
        "# Optimizers\n",
        " Takes into account the loss of a model and adjust the model's parameters (eg. weights & bias in our case to improve the loss function.)\n",
        "\n",
        " * And specially for PyTorch, we need\n",
        " * A training loop\n",
        " * A testing loop"
      ],
      "metadata": {
        "id": "HeOawYJUQFJC"
      }
    },
    {
      "cell_type": "code",
      "source": [
        "list(model_1.parameters())"
      ],
      "metadata": {
        "id": "yYLJotm1PRf6",
        "outputId": "0b35aaea-2fcd-4637-af88-8e11df56356c",
        "colab": {
          "base_uri": "https://localhost:8080/"
        }
      },
      "execution_count": 105,
      "outputs": [
        {
          "output_type": "execute_result",
          "data": {
            "text/plain": [
              "[Parameter containing:\n",
              " tensor([0.3367], requires_grad=True),\n",
              " Parameter containing:\n",
              " tensor([0.1288], requires_grad=True)]"
            ]
          },
          "metadata": {},
          "execution_count": 105
        }
      ]
    },
    {
      "cell_type": "code",
      "source": [
        "model_1.state_dict()"
      ],
      "metadata": {
        "id": "1OXI6dFnRY_J",
        "outputId": "c33d4153-b30f-42b3-8fc0-1621f3c0141d",
        "colab": {
          "base_uri": "https://localhost:8080/"
        }
      },
      "execution_count": 106,
      "outputs": [
        {
          "output_type": "execute_result",
          "data": {
            "text/plain": [
              "OrderedDict([('weights', tensor([0.3367])), ('bias', tensor([0.1288]))])"
            ]
          },
          "metadata": {},
          "execution_count": 106
        }
      ]
    },
    {
      "cell_type": "markdown",
      "source": [
        "#  Loss function\n",
        "* L1 lose is mean absolute error (MAE) between each element in the input x and target y\n",
        "\n",
        "* L2 Loss is mean square error (MSE)\n",
        "\n",
        "These are use for regression problem\n"
      ],
      "metadata": {
        "id": "0qvdYzQ0kly_"
      }
    },
    {
      "cell_type": "markdown",
      "source": [
        "# Optimizer"
      ],
      "metadata": {
        "id": "9RbU-mJOpnBX"
      }
    },
    {
      "cell_type": "markdown",
      "source": [
        "To see different type of optimizers algo visit :- https://pytorch.org/docs/stable/optim.html"
      ],
      "metadata": {
        "id": "X48tKd2Upx21"
      }
    },
    {
      "cell_type": "markdown",
      "source": [
        "* A parameter is a value that the model sets iself\n",
        "* lr = Learning Rate = possibly the most important hyperparameter that we set\n",
        "* Smaller the learning rate the smaller the change in parameter\n",
        "* The larger the learning rate the larger the change in parameter"
      ],
      "metadata": {
        "id": "8yh-httQsQoI"
      }
    },
    {
      "cell_type": "code",
      "source": [
        "# setup a loss function\n",
        "loss_fn = nn.L1Loss()\n",
        "\n",
        "#setup an optimizer  (Stochastic (random) gradient descent)\n",
        "optimizer = torch.optim.SGD(params=model_1.parameters(),\n",
        "                            lr=0.01) # lr = learning rate\n"
      ],
      "metadata": {
        "id": "p75iBMvqRh-d"
      },
      "execution_count": 107,
      "outputs": []
    },
    {
      "cell_type": "markdown",
      "source": [
        "# Building the training (and a testing loop) in  PyTorch"
      ],
      "metadata": {
        "id": "B8Z3JMBktW-U"
      }
    },
    {
      "cell_type": "markdown",
      "source": [
        "* A couple of things we need in a training loop :\n",
        "0. Loop through the data\n",
        "1. forward pass (this involes data moving through our model's `forwrd()`\n",
        "function) to make prediction ob data - also known as **forward propogation**\n",
        "2. calculate the loss (compare forward pass prediction to ground truth labels )\n",
        "3. Optimizer zero grad\n",
        "4. loss backward - moves backwards through the network to calculate the gradient of each of the parameter of our model with respect to the loss - it is also known as **back propogation**\n",
        "5. Optimizer step - use the optimizer to adjust our model's parameters to try and improve the loss (**graident descent**)\n",
        "gradient is also known as slope"
      ],
      "metadata": {
        "id": "z6frlO0wuxrj"
      }
    },
    {
      "cell_type": "code",
      "source": [
        "list(model_1.parameters())"
      ],
      "metadata": {
        "colab": {
          "base_uri": "https://localhost:8080/"
        },
        "id": "U8pJkZKxzAyv",
        "outputId": "b3d46b53-de52-4fa0-b2a8-7ac08f32c277"
      },
      "execution_count": 108,
      "outputs": [
        {
          "output_type": "execute_result",
          "data": {
            "text/plain": [
              "[Parameter containing:\n",
              " tensor([0.3367], requires_grad=True),\n",
              " Parameter containing:\n",
              " tensor([0.1288], requires_grad=True)]"
            ]
          },
          "metadata": {},
          "execution_count": 108
        }
      ]
    },
    {
      "cell_type": "code",
      "source": [
        "torch.manual_seed(42)\n",
        "# An epoch is one loop through the data (this is a hyperparameter because we set it ourselves)\n",
        "\n",
        "epochs = 10\n",
        "\n",
        "### Training\n",
        "\n",
        "# 0. loop through the data ..\n",
        "for ephoch in range (epochs) :\n",
        "  # set the model to training mode\n",
        "  model_1.train() # train mode in PyTorch set all parameters that require gradients to require gradients\n",
        "\n",
        "  # 1.Forward pass\n",
        "  y_pre = model_1(x_train)\n",
        "\n",
        "  # 2 calculate the loss (MAE)\n",
        "  loss = loss_fn(y_pre, y_train) # as per document we will use input frist and target next\n",
        "\n",
        "  #3. Optimizer zero grad\n",
        "  optimizer.zero_grad()\n",
        "\n",
        "  #4 Perform backpropagation on the loss with respect to the parameters of the model\n",
        "  loss.backward()\n",
        "\n",
        "  #5. Step the optimizer (perform gradient descent)\n",
        "  optimizer.step() # by default how the optimizer change will acculumate through the loop so. we have to zero them above in step 3 for the next iteration of the loop\n",
        "  model_1.eval() # turns off gradient tracking\n"
      ],
      "metadata": {
        "id": "5l50ak5_o1R1"
      },
      "execution_count": 109,
      "outputs": []
    },
    {
      "cell_type": "markdown",
      "source": [
        "To create these we're going to write a Python `for` loop in the theme of the [unofficial PyTorch optimization loop song](https://twitter.com/mrdbourke/status/1450977868406673410?s=20) (there's a [video version too](https://youtu.be/Nutpusq_AFw)).\n",
        "\n",
        "![the unofficial pytorch optimization loop song](https://raw.githubusercontent.com/mrdbourke/pytorch-deep-learning/main/images/01-pytorch-optimization-loop-song.png)\n",
        "*The unoffical PyTorch optimization loops song, a fun way to remember the steps in a PyTorch training (and testing) loop.*\n",
        "\n",
        "There will be a fair bit of code but nothing we can't handle."
      ],
      "metadata": {
        "id": "5NiXgONf4SWS"
      }
    },
    {
      "cell_type": "markdown",
      "source": [
        "### PyTorch training loop\n",
        "For the training loop, we'll build the following steps:\n",
        "\n",
        "| Number | Step name | What does it do? | Code example |\n",
        "| ----- | ----- | ----- | ----- |\n",
        "| 1 | Forward pass | The model goes through all of the training data once, performing its `forward()` function calculations. | `model(x_train)` |\n",
        "| 2 | Calculate the loss | The model's outputs (predictions) are compared to the ground truth and evaluated to see how wrong they are. | `loss = loss_fn(y_pred, y_train)` |\n",
        "| 3 | Zero gradients | The optimizers gradients are set to zero (they are accumulated by default) so they can be recalculated for the specific training step. | `optimizer.zero_grad()` |\n",
        "| 4 | Perform backpropagation on the loss | Computes the gradient of the loss with respect for every model parameter to be updated  (each parameter with `requires_grad=True`). This is known as **backpropagation**, hence \"backwards\".  | `loss.backward()` |\n",
        "| 5 | Update the optimizer (**gradient descent**) | Update the parameters with `requires_grad=True` with respect to the loss gradients in order to improve them. | `optimizer.step()` |\n",
        "\n",
        "![pytorch training loop annotated](https://raw.githubusercontent.com/mrdbourke/pytorch-deep-learning/main/images/01-pytorch-training-loop-annotated.png)\n",
        "\n",
        "> **Note:** The above is just one example of how the steps could be ordered or described. With experience you'll find making PyTorch training loops can be quite flexible.\n",
        ">\n",
        "> And on the ordering of things, the above is a good default order but you may see slightly different orders. Some rules of thumb:\n",
        "> * Calculate the loss (`loss = ...`) *before* performing backpropagation on it (`loss.backward()`).\n",
        "> * Zero gradients (`optimizer.zero_grad()`) *before* stepping them (`optimizer.step()`).\n",
        "> * Step the optimizer (`optimizer.step()`) *after* performing backpropagation on the loss (`loss.backward()`).\n",
        "\n",
        "For resources to help understand what's happening behind the scenes with backpropagation and gradient descent, see the extra-curriculum section.\n"
      ],
      "metadata": {
        "id": "lizU-Uwo4oqH"
      }
    },
    {
      "cell_type": "code",
      "source": [
        "with torch.inference_mode():\n",
        "  y_preds_new = model_1(x_test)"
      ],
      "metadata": {
        "id": "S9_Zn9b_AmUA"
      },
      "execution_count": 110,
      "outputs": []
    },
    {
      "cell_type": "code",
      "source": [
        "model_1.state_dict()"
      ],
      "metadata": {
        "colab": {
          "base_uri": "https://localhost:8080/"
        },
        "id": "MDimFVIH4RLL",
        "outputId": "43ea9656-5092-41ef-ff9b-a458c1bec0f0"
      },
      "execution_count": 111,
      "outputs": [
        {
          "output_type": "execute_result",
          "data": {
            "text/plain": [
              "OrderedDict([('weights', tensor([0.3757])), ('bias', tensor([0.2288]))])"
            ]
          },
          "metadata": {},
          "execution_count": 111
        }
      ]
    },
    {
      "cell_type": "code",
      "source": [
        "plot_predictions(predictions=y_preds)"
      ],
      "metadata": {
        "colab": {
          "base_uri": "https://localhost:8080/",
          "height": 599
        },
        "id": "t-uMRVD4-Lbh",
        "outputId": "d0b8cc8a-331c-466a-ae2e-e404401775ed"
      },
      "execution_count": 112,
      "outputs": [
        {
          "output_type": "display_data",
          "data": {
            "text/plain": [
              "<Figure size 1000x700 with 1 Axes>"
            ],
            "image/png": "[encoded data removed]"
          },
          "metadata": {}
        }
      ]
    },
    {
      "cell_type": "code",
      "source": [
        "plot_predictions(predictions=y_preds_new)"
      ],
      "metadata": {
        "id": "4IDWt5udBHvf",
        "outputId": "4995066d-bb2a-4d1d-80fe-100a10d5e93b",
        "colab": {
          "base_uri": "https://localhost:8080/",
          "height": 599
        }
      },
      "execution_count": 113,
      "outputs": [
        {
          "output_type": "display_data",
          "data": {
            "text/plain": [
              "<Figure size 1000x700 with 1 Axes>"
            ],
            "image/png": "[encoded data removed]"
          },
          "metadata": {}
        }
      ]
    },
    {
      "cell_type": "code",
      "source": [],
      "metadata": {
        "id": "B6AG6C8PBSky"
      },
      "execution_count": 113,
      "outputs": []
    }
  ]
}