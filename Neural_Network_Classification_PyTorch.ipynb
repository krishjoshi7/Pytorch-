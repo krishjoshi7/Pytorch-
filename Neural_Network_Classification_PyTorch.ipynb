{
  "nbformat": 4,
  "nbformat_minor": 0,
  "metadata": {
    "colab": {
      "provenance": [],
      "authorship_tag": "ABX9TyO8dAivXG5mj8nZCIaFboaV",
      "include_colab_link": true
    },
    "kernelspec": {
      "name": "python3",
      "display_name": "Python 3"
    },
    "language_info": {
      "name": "python"
    }
  },
  "cells": [
    {
      "cell_type": "markdown",
      "metadata": {
        "id": "view-in-github",
        "colab_type": "text"
      },
      "source": [
        "<a href=\"https://colab.research.google.com/github/krishjoshi7/Pytorch-/blob/main/Neural_Network_Classification_PyTorch.ipynb\" target=\"_parent\"><img src=\"https://colab.research.google.com/assets/colab-badge.svg\" alt=\"Open In Colab\"/></a>"
      ]
    },
    {
      "cell_type": "markdown",
      "source": [
        "# 02. PyTorch Neural Network Classification\n",
        "\n",
        "## What is a classification problem?\n",
        "\n",
        "A [classification problem](https://en.wikipedia.org/wiki/Statistical_classification) involves predicting whether something is one thing or another.\n",
        "\n",
        "For example, you might want to:\n",
        "\n",
        "| Problem type | What is it? | Example |\n",
        "| ----- | ----- | ----- |\n",
        "| **Binary classification** | Target can be one of two options, e.g. yes or no | Predict whether or not someone has heart disease based on their health parameters. |\n",
        "| **Multi-class classification** | Target can be one of more than two options | Decide whether a photo of is of food, a person or a dog. |\n",
        "| **Multi-label classification** | Target can be assigned more than one option | Predict what categories should be assigned to a Wikipedia article (e.g. mathematics, science & philosohpy). |\n",
        "\n",
        "<div align=\"center\">\n",
        "<img src=\"https://raw.githubusercontent.com/mrdbourke/pytorch-deep-learning/main/images/02-different-classification-problems.png\" alt=\"various different classification in machine learning such as binary classification, multiclass classification and multilabel classification\" width=900/>\n",
        "</div>\n",
        "    \n",
        "Classification, along with regression (predicting a number, covered in [notebook 01](https://www.learnpytorch.io/01_pytorch_workflow/)) is one of the most common types of machine learning problems.\n",
        "\n",
        "In this notebook, we're going to work through a couple of different classification problems with PyTorch.\n",
        "\n",
        "In other words, taking a set of inputs and predicting what class those set of inputs belong to.\n",
        "\n",
        "\n"
      ],
      "metadata": {
        "id": "O1P2icPEkGeB"
      }
    },
    {
      "cell_type": "code",
      "execution_count": 1,
      "metadata": {
        "id": "475skUelhHz8"
      },
      "outputs": [],
      "source": [
        "import torch\n",
        "import torch.nn"
      ]
    },
    {
      "cell_type": "markdown",
      "source": [
        "### What we are going to cover###\n",
        "* Architecture of neural network classificationmondel\n",
        "* Input shape and output shapes of a classifcation model (features and labels)\n",
        "* Creating custom data to view, fit on and predict on\n",
        "* Steps in modeling\n",
        "* Creating a model, setting a loss function and optimisers, creating a training loop, evaluatimg a model\n",
        "* Saving and loading model\n",
        "* Harnesing the power of non-linearity\n",
        "* Different classification evaluation method"
      ],
      "metadata": {
        "id": "3jEzzEh0j5Hx"
      }
    },
    {
      "cell_type": "code",
      "source": [],
      "metadata": {
        "id": "V365UtoxjLfC"
      },
      "execution_count": null,
      "outputs": []
    }
  ]
}